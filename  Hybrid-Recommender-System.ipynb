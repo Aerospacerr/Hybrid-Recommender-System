{
  "nbformat": 4,
  "nbformat_minor": 0,
  "metadata": {
    "colab": {
      "name": "4_2_odev",
      "provenance": [],
      "collapsed_sections": [],
      "history_visible": true,
      "authorship_tag": "ABX9TyNscRkT9AhQ42tAP4xYIT9k"
    },
    "kernelspec": {
      "name": "python3",
      "display_name": "Python 3"
    },
    "language_info": {
      "name": "python"
    }
  },
  "cells": [
    {
      "cell_type": "code",
      "source": [
        "from google.colab import drive\n",
        "drive.mount('/gdrive/')\n",
        "\n",
        "import os\n",
        "os.chdir(\"/gdrive/My Drive/VBO/4_hafta/\")"
      ],
      "metadata": {
        "colab": {
          "base_uri": "https://localhost:8080/"
        },
        "id": "p0LEYontRGn6",
        "outputId": "2d2944a2-b892-41aa-b924-757b0004e3b2"
      },
      "execution_count": null,
      "outputs": [
        {
          "output_type": "stream",
          "name": "stdout",
          "text": [
            "Mounted at /gdrive/\n"
          ]
        }
      ]
    },
    {
      "cell_type": "code",
      "execution_count": null,
      "metadata": {
        "id": "UApcZ70XzDFU",
        "colab": {
          "base_uri": "https://localhost:8080/",
          "height": 571
        },
        "outputId": "c324aa30-d754-4610-a814-548cbdc207bd"
      },
      "outputs": [
        {
          "output_type": "error",
          "ename": "KeyError",
          "evalue": "ignored",
          "traceback": [
            "\u001b[0;31m---------------------------------------------------------------------------\u001b[0m",
            "\u001b[0;31mKeyError\u001b[0m                                  Traceback (most recent call last)",
            "\u001b[0;32m/usr/local/lib/python3.7/dist-packages/pandas/core/indexes/base.py\u001b[0m in \u001b[0;36mget_loc\u001b[0;34m(self, key, method, tolerance)\u001b[0m\n\u001b[1;32m   2897\u001b[0m             \u001b[0;32mtry\u001b[0m\u001b[0;34m:\u001b[0m\u001b[0;34m\u001b[0m\u001b[0;34m\u001b[0m\u001b[0m\n\u001b[0;32m-> 2898\u001b[0;31m                 \u001b[0;32mreturn\u001b[0m \u001b[0mself\u001b[0m\u001b[0;34m.\u001b[0m\u001b[0m_engine\u001b[0m\u001b[0;34m.\u001b[0m\u001b[0mget_loc\u001b[0m\u001b[0;34m(\u001b[0m\u001b[0mcasted_key\u001b[0m\u001b[0;34m)\u001b[0m\u001b[0;34m\u001b[0m\u001b[0;34m\u001b[0m\u001b[0m\n\u001b[0m\u001b[1;32m   2899\u001b[0m             \u001b[0;32mexcept\u001b[0m \u001b[0mKeyError\u001b[0m \u001b[0;32mas\u001b[0m \u001b[0merr\u001b[0m\u001b[0;34m:\u001b[0m\u001b[0;34m\u001b[0m\u001b[0;34m\u001b[0m\u001b[0m\n",
            "\u001b[0;32mpandas/_libs/index.pyx\u001b[0m in \u001b[0;36mpandas._libs.index.IndexEngine.get_loc\u001b[0;34m()\u001b[0m\n",
            "\u001b[0;32mpandas/_libs/index.pyx\u001b[0m in \u001b[0;36mpandas._libs.index.IndexEngine.get_loc\u001b[0;34m()\u001b[0m\n",
            "\u001b[0;32mpandas/_libs/hashtable_class_helper.pxi\u001b[0m in \u001b[0;36mpandas._libs.hashtable.PyObjectHashTable.get_item\u001b[0;34m()\u001b[0m\n",
            "\u001b[0;32mpandas/_libs/hashtable_class_helper.pxi\u001b[0m in \u001b[0;36mpandas._libs.hashtable.PyObjectHashTable.get_item\u001b[0;34m()\u001b[0m\n",
            "\u001b[0;31mKeyError\u001b[0m: 'userId'",
            "\nThe above exception was the direct cause of the following exception:\n",
            "\u001b[0;31mKeyError\u001b[0m                                  Traceback (most recent call last)",
            "\u001b[0;32m<ipython-input-3-6a2b7d978765>\u001b[0m in \u001b[0;36m<module>\u001b[0;34m()\u001b[0m\n\u001b[1;32m     87\u001b[0m \u001b[0;31m##### Part 6 ####\u001b[0m\u001b[0;34m\u001b[0m\u001b[0;34m\u001b[0m\u001b[0;34m\u001b[0m\u001b[0m\n\u001b[1;32m     88\u001b[0m \u001b[0;34m\u001b[0m\u001b[0m\n\u001b[0;32m---> 89\u001b[0;31m \u001b[0mmovie_name\u001b[0m \u001b[0;34m=\u001b[0m \u001b[0mmovie_df\u001b[0m\u001b[0;34m[\u001b[0m\u001b[0;34m(\u001b[0m\u001b[0mmovie_df\u001b[0m\u001b[0;34m[\u001b[0m\u001b[0;34m\"userId\"\u001b[0m\u001b[0;34m]\u001b[0m \u001b[0;34m==\u001b[0m \u001b[0mrandom_user\u001b[0m\u001b[0;34m)\u001b[0m \u001b[0;34m&\u001b[0m \u001b[0;34m(\u001b[0m\u001b[0mmovie_df\u001b[0m\u001b[0;34m[\u001b[0m\u001b[0;34m\"rating\"\u001b[0m\u001b[0;34m]\u001b[0m \u001b[0;34m==\u001b[0m \u001b[0;36m5.\u001b[0m\u001b[0;34m)\u001b[0m\u001b[0;34m]\u001b[0m\u001b[0;34m.\u001b[0m   \u001b[0msort_values\u001b[0m\u001b[0;34m(\u001b[0m\u001b[0mby\u001b[0m\u001b[0;34m=\u001b[0m\u001b[0;34m\"timestamp\"\u001b[0m\u001b[0;34m,\u001b[0m \u001b[0mascending\u001b[0m\u001b[0;34m=\u001b[0m\u001b[0;32mFalse\u001b[0m\u001b[0;34m)\u001b[0m\u001b[0;34m[\u001b[0m\u001b[0;34m\"title\"\u001b[0m\u001b[0;34m]\u001b[0m\u001b[0;34m[\u001b[0m\u001b[0;36m0\u001b[0m\u001b[0;34m:\u001b[0m\u001b[0;36m1\u001b[0m\u001b[0;34m]\u001b[0m\u001b[0;34m.\u001b[0m\u001b[0mvalues\u001b[0m\u001b[0;34m[\u001b[0m\u001b[0;36m0\u001b[0m\u001b[0;34m]\u001b[0m\u001b[0;34m\u001b[0m\u001b[0;34m\u001b[0m\u001b[0m\n\u001b[0m\u001b[1;32m     90\u001b[0m \u001b[0;34m\u001b[0m\u001b[0m\n\u001b[1;32m     91\u001b[0m \u001b[0;32mdef\u001b[0m \u001b[0mitem_based_recommender\u001b[0m\u001b[0;34m(\u001b[0m\u001b[0mmovie_name\u001b[0m\u001b[0;34m,\u001b[0m \u001b[0muser_movie_df\u001b[0m\u001b[0;34m)\u001b[0m\u001b[0;34m:\u001b[0m\u001b[0;34m\u001b[0m\u001b[0;34m\u001b[0m\u001b[0m\n",
            "\u001b[0;32m/usr/local/lib/python3.7/dist-packages/pandas/core/frame.py\u001b[0m in \u001b[0;36m__getitem__\u001b[0;34m(self, key)\u001b[0m\n\u001b[1;32m   2904\u001b[0m             \u001b[0;32mif\u001b[0m \u001b[0mself\u001b[0m\u001b[0;34m.\u001b[0m\u001b[0mcolumns\u001b[0m\u001b[0;34m.\u001b[0m\u001b[0mnlevels\u001b[0m \u001b[0;34m>\u001b[0m \u001b[0;36m1\u001b[0m\u001b[0;34m:\u001b[0m\u001b[0;34m\u001b[0m\u001b[0;34m\u001b[0m\u001b[0m\n\u001b[1;32m   2905\u001b[0m                 \u001b[0;32mreturn\u001b[0m \u001b[0mself\u001b[0m\u001b[0;34m.\u001b[0m\u001b[0m_getitem_multilevel\u001b[0m\u001b[0;34m(\u001b[0m\u001b[0mkey\u001b[0m\u001b[0;34m)\u001b[0m\u001b[0;34m\u001b[0m\u001b[0;34m\u001b[0m\u001b[0m\n\u001b[0;32m-> 2906\u001b[0;31m             \u001b[0mindexer\u001b[0m \u001b[0;34m=\u001b[0m \u001b[0mself\u001b[0m\u001b[0;34m.\u001b[0m\u001b[0mcolumns\u001b[0m\u001b[0;34m.\u001b[0m\u001b[0mget_loc\u001b[0m\u001b[0;34m(\u001b[0m\u001b[0mkey\u001b[0m\u001b[0;34m)\u001b[0m\u001b[0;34m\u001b[0m\u001b[0;34m\u001b[0m\u001b[0m\n\u001b[0m\u001b[1;32m   2907\u001b[0m             \u001b[0;32mif\u001b[0m \u001b[0mis_integer\u001b[0m\u001b[0;34m(\u001b[0m\u001b[0mindexer\u001b[0m\u001b[0;34m)\u001b[0m\u001b[0;34m:\u001b[0m\u001b[0;34m\u001b[0m\u001b[0;34m\u001b[0m\u001b[0m\n\u001b[1;32m   2908\u001b[0m                 \u001b[0mindexer\u001b[0m \u001b[0;34m=\u001b[0m \u001b[0;34m[\u001b[0m\u001b[0mindexer\u001b[0m\u001b[0;34m]\u001b[0m\u001b[0;34m\u001b[0m\u001b[0;34m\u001b[0m\u001b[0m\n",
            "\u001b[0;32m/usr/local/lib/python3.7/dist-packages/pandas/core/indexes/base.py\u001b[0m in \u001b[0;36mget_loc\u001b[0;34m(self, key, method, tolerance)\u001b[0m\n\u001b[1;32m   2898\u001b[0m                 \u001b[0;32mreturn\u001b[0m \u001b[0mself\u001b[0m\u001b[0;34m.\u001b[0m\u001b[0m_engine\u001b[0m\u001b[0;34m.\u001b[0m\u001b[0mget_loc\u001b[0m\u001b[0;34m(\u001b[0m\u001b[0mcasted_key\u001b[0m\u001b[0;34m)\u001b[0m\u001b[0;34m\u001b[0m\u001b[0;34m\u001b[0m\u001b[0m\n\u001b[1;32m   2899\u001b[0m             \u001b[0;32mexcept\u001b[0m \u001b[0mKeyError\u001b[0m \u001b[0;32mas\u001b[0m \u001b[0merr\u001b[0m\u001b[0;34m:\u001b[0m\u001b[0;34m\u001b[0m\u001b[0;34m\u001b[0m\u001b[0m\n\u001b[0;32m-> 2900\u001b[0;31m                 \u001b[0;32mraise\u001b[0m \u001b[0mKeyError\u001b[0m\u001b[0;34m(\u001b[0m\u001b[0mkey\u001b[0m\u001b[0;34m)\u001b[0m \u001b[0;32mfrom\u001b[0m \u001b[0merr\u001b[0m\u001b[0;34m\u001b[0m\u001b[0;34m\u001b[0m\u001b[0m\n\u001b[0m\u001b[1;32m   2901\u001b[0m \u001b[0;34m\u001b[0m\u001b[0m\n\u001b[1;32m   2902\u001b[0m         \u001b[0;32mif\u001b[0m \u001b[0mtolerance\u001b[0m \u001b[0;32mis\u001b[0m \u001b[0;32mnot\u001b[0m \u001b[0;32mNone\u001b[0m\u001b[0;34m:\u001b[0m\u001b[0;34m\u001b[0m\u001b[0;34m\u001b[0m\u001b[0m\n",
            "\u001b[0;31mKeyError\u001b[0m: 'userId'"
          ]
        }
      ],
      "source": [
        "import pandas as pd\n",
        "import numpy as np\n",
        "\n",
        "##### Part 1 #####\n",
        "# From first hw #\n",
        "\n",
        "def create_movie_df(nr_drop_movie):\n",
        "  #change these paths with your own path of database\n",
        "    movie = pd.read_csv('/gdrive/MyDrive/VBO/4_hafta/Ders Öncesi Notlar/movie_lens_dataset/movie.csv')\n",
        "    rating = pd.read_csv('/gdrive/MyDrive/VBO/4_hafta/Ders Öncesi Notlar/movie_lens_dataset/rating.csv')\n",
        "    #merge datasets\n",
        "    df = movie.merge(rating, how=\"left\", on=\"movieId\")\n",
        "    rating_count = pd.DataFrame(df[\"title\"].value_counts())\n",
        "  #nr_drop_movies= number of dropped movies from list\n",
        "    rare_movies = rating_count[rating_count[\"title\"] <= nr_drop_movie].index\n",
        "    common_movies = df[~df[\"title\"].isin(rare_movies)]\n",
        "    movie_df = common_movies.pivot_table(index=[\"userId\"], columns=[\"title\"], values=\"rating\")\n",
        "    return movie_df\n",
        "\n",
        "movie_df = create_movie_df(nr_drop_movie=10000)\n",
        "\n",
        "random_user = int(pd.Series(movie_df.index).sample(1, random_state=1).values)\n",
        "\n",
        "##### Part 2 #####\n",
        "\n",
        "random_user_df = movie_df[movie_df.index == random_user]\n",
        "\n",
        "movies_watched = random_user_df.columns[random_user_df.notna().any()].tolist()\n",
        "\n",
        "\n",
        "##### Part 3 #####\n",
        "\n",
        "movies_watched_df = movie_df[movies_watched]\n",
        "user_movie_count = movies_watched_df.T.notnull().sum()\n",
        "user_movie_count = user_movie_count.reset_index()\n",
        "user_movie_count.columns = [\"userId\", \"movie_count\"]\n",
        "users_same_movies = user_movie_count[user_movie_count[\"movie_count\"] > len(movies_watched)*0.6][\"userId\"]\n",
        "final_df = pd.concat([movies_watched_df[movies_watched_df.index.isin(users_same_movies)],\n",
        "                      random_user_df[movies_watched]])\n",
        "\n",
        "users_same_movies.head()\n",
        "\n",
        "##### Part 4 #####\n",
        "corr_df = final_df.T.corr().unstack().sort_values().drop_duplicates()\n",
        "\n",
        "corr_df = pd.DataFrame(corr_df, columns=[\"corr\"])\n",
        "corr_df.index.names = ['user_id_1', 'user_id_2']\n",
        "corr_df = corr_df.reset_index()\n",
        "\n",
        "corr_df.head()\n",
        "\n",
        "\n",
        "movie = pd.read_csv('/gdrive/MyDrive/VBO/4_hafta/Ders Öncesi Notlar/movie_lens_dataset/movie.csv')\n",
        "rating = pd.read_csv('/gdrive/MyDrive/VBO/4_hafta/Ders Öncesi Notlar/movie_lens_dataset/rating.csv')\n",
        "\n",
        "top_users = corr_df[(corr_df[\"user_id_1\"] == random_user) & (corr_df[\"corr\"] >= 0.65)][\n",
        "    [\"user_id_2\", \"corr\"]].reset_index(drop=True)\n",
        "\n",
        "top_users = top_users.sort_values(by='corr', ascending=False)\n",
        "\n",
        "top_users.rename(columns={\"user_id_2\": \"userId\"}, inplace=True)\n",
        "\n",
        "top_users_ratings = top_users.merge(rating[[\"userId\", \"movieId\", \"rating\"]], how='inner')\n",
        "\n",
        "top_users_ratings.head(50)\n",
        "\n",
        "top_users_ratings = top_users_ratings[top_users_ratings[\"userId\"] != random_user]\n",
        "\n",
        "\n",
        "#############################################\n",
        "# Adım 5: Weighted Average Recommendation Score'un Hesaplanması\n",
        "#############################################\n",
        "\n",
        "top_users_ratings['weighted_rating'] = top_users_ratings['corr'] * top_users_ratings['rating']\n",
        "top_users_ratings.groupby('movieId').agg({\"weighted_rating\": \"mean\"})\n",
        "top_users_ratings.head()\n",
        "\n",
        "recommendation_df = top_users_ratings.groupby('movieId').agg({\"weighted_rating\": \"mean\"})\n",
        "recommendation_df = recommendation_df.reset_index()\n",
        "recommendation_df.head()\n",
        "\n",
        "\n",
        "movies_to_be_recommend = recommendation_df[recommendation_df[\"weighted_rating\"] > 3.5].sort_values(\"weighted_rating\", ascending=False)\n",
        "movies_to_be_recommend.merge(movie[[\"movieId\", \"title\"]])\n",
        "\n",
        "\n",
        "##### Part 6 ####\n",
        "\n",
        "movie_id=rating[(rating[\"userId\"]==random_user)&(rating[\"rating\"]==5)].sort_values(\"timestamp\",ascending=False)[\"movieId\"][0:1].values[0]\n",
        "#movie_title=movie[movie[\"movieId\"]==movie_id][\"title\"].values[0]\n",
        "\n",
        "def item_based_recommender(movie_name, user_movie_df):\n",
        "    movie_name = movie_df[movie_name]\n",
        "    return movie_df.corrwith(movie_name).sort_values(ascending=False).head(10)\n",
        "\n",
        "\n",
        "######### #######\n",
        "item_based = item_based_recommender(movie[movie[\"movieId\"] == movie_id][\"title\"].values[0], user_movie_df)[1:6]\n",
        "user_based = movies_to_be_recommend[1:6]\n",
        "\n",
        "\n",
        "\n"
      ]
    }
  ]
}